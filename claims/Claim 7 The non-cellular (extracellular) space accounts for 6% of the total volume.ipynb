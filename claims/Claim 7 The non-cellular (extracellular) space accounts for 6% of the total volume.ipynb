{
 "cells": [
  {
   "cell_type": "markdown",
   "metadata": {},
   "source": [
    "Claim 7: The non-cellular (extracellular) space accounts for 6% of the total volume, less than half the extracellular space estimates from living brains."
   ]
  },
  {
   "cell_type": "code",
   "execution_count": 1,
   "metadata": {
    "collapsed": true
   },
   "outputs": [],
   "source": [
    "import numpy as np\n",
    "import ndio.remote.neurodata as nd\n",
    "from datetime import datetime\n",
    "\n",
    "startTime = datetime.now()\n",
    "\n",
    "oo = nd()\n",
    "\n",
    "token = 'kasthuri2015_ramon_v1'\n",
    "channel = 'neurons'\n",
    "res = 3\n",
    "pixel_dim = 0.024*0.024*0.030  #can get from LIMS"
   ]
  },
  {
   "cell_type": "code",
   "execution_count": 2,
   "metadata": {
    "collapsed": false
   },
   "outputs": [
    {
     "name": "stdout",
     "output_type": "stream",
     "text": [
      "Mask Pixels: 90152653\n",
      "Mask Volume: 1557.83784384 um^3\n",
      "Mask Pixels: 82232896\n",
      "Mask Volume: 1420.98444288 um^3\n",
      "0:01:57.606149\n"
     ]
    }
   ],
   "source": [
    "import ndio.ramon as ramon\n",
    "\n",
    "# A priori known bounds for cylinders.  Alternatively we could sweep over entire volume - this is more efficient.\n",
    "# TODO:  assume that all synapses are inside cylinders, which we know to be true - should do with manual masking or a \n",
    "# RAMONId predicate query\n",
    "\n",
    "xbox = [694,1794]; \n",
    "ybox = [1750, 2460];\n",
    "zbox = [1004, 1379];\n",
    "\n",
    "# These calls take about 60 seconds to execute\n",
    "gcyl = oo.get_volume('kat11greencylinder','annotation', xbox[0], xbox[1], ybox[0], ybox[1], zbox[0], zbox[1], resolution = res)\n",
    "rcyl = oo.get_volume('kat11redcylinder','annotation', xbox[0], xbox[1], ybox[0], ybox[1], zbox[0], zbox[1], resolution = res)\n",
    "bcyl = oo.get_volume('kat11mojocylinder','annotation', xbox[0], xbox[1], ybox[0], ybox[1], zbox[0], zbox[1], resolution = res)\n",
    "\n",
    "seg_masked = oo.get_volume(token, channel, xbox[0], xbox[1], ybox[0], ybox[1], zbox[0], zbox[1], resolution = res)\n",
    "\n",
    "mask = (gcyl.cutout + rcyl.cutout + bcyl.cutout) > 0\n",
    "\n",
    "mask_pixels = sum(sum(sum(mask)))\n",
    "mask_volume = mask_pixels * pixel_dim\n",
    "print 'Mask Pixels: ' + str(mask_pixels)\n",
    "print 'Mask Volume: ' + str(mask_volume) + ' um^3'\n",
    "\n",
    "seg_pixels = sum(sum(sum(seg_masked.cutout > 0)))\n",
    "seg_volume =  seg_pixels * pixel_dim\n",
    "\n",
    "print 'Mask Pixels: ' + str(seg_pixels)\n",
    "print 'Mask Volume: ' + str(seg_volume) + ' um^3'\n",
    "\n",
    "print datetime.now() - startTime"
   ]
  },
  {
   "cell_type": "code",
   "execution_count": 3,
   "metadata": {
    "collapsed": false
   },
   "outputs": [
    {
     "name": "stdout",
     "output_type": "stream",
     "text": [
      "0.0878482965998\n"
     ]
    }
   ],
   "source": [
    "print 1 - float(seg_volume) / mask_volume"
   ]
  }
 ],
 "metadata": {
  "kernelspec": {
   "display_name": "Python 2",
   "language": "python",
   "name": "python2"
  },
  "language_info": {
   "codemirror_mode": {
    "name": "ipython",
    "version": 2
   },
   "file_extension": ".py",
   "mimetype": "text/x-python",
   "name": "python",
   "nbconvert_exporter": "python",
   "pygments_lexer": "ipython2",
   "version": "2.7.11"
  }
 },
 "nbformat": 4,
 "nbformat_minor": 0
}
