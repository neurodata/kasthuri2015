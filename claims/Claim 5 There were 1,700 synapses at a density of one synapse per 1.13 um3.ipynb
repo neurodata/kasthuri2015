{
 "cells": [
  {
   "cell_type": "markdown",
   "metadata": {},
   "source": [
    "Claim 5: There were 1,700 synapses at a density of one synapse per 1.13 μm3."
   ]
  },
  {
   "cell_type": "code",
   "execution_count": 1,
   "metadata": {
    "collapsed": true
   },
   "outputs": [],
   "source": [
    "import numpy as np\n",
    "import ndio.remote.neurodata as nd\n",
    "from datetime import datetime\n",
    "\n",
    "startTime = datetime.now()\n",
    "\n",
    "oo = nd()\n",
    "\n",
    "token = 'kasthuri2015_ramon_v1'\n",
    "channel = 'synapses'\n",
    "res = 3\n",
    "pixel_dim = 0.024*0.024*0.030  #can get from LIMS"
   ]
  },
  {
   "cell_type": "code",
   "execution_count": 2,
   "metadata": {
    "collapsed": false
   },
   "outputs": [
    {
     "name": "stdout",
     "output_type": "stream",
     "text": [
      "Mask Pixels: 90152653\n",
      "Mask Volume: 1557.83784384 um^3\n",
      "0:01:17.060900\n"
     ]
    }
   ],
   "source": [
    "import ndio.ramon as ramon\n",
    "\n",
    "synapse_ids = oo.get_ramon_ids(token, channel, ramon_type=ramon.RAMONSynapse)\n",
    "\n",
    "# A priori known bounds for cylinders.  Alternatively we could sweep over entire volume - this is more efficient.\n",
    "# TODO:  assume that all synapses are inside cylinders, which we know to be true - should do with manual masking or a \n",
    "# RAMONId predicate query\n",
    "\n",
    "xbox = [694,1794]; \n",
    "ybox = [1750, 2460];\n",
    "zbox = [1004, 1379];\n",
    "\n",
    "# These calls take about 60 seconds to execute\n",
    "gcyl = oo.get_volume('kat11greencylinder','annotation', xbox[0], xbox[1], ybox[0], ybox[1], zbox[0], zbox[1], resolution = res)\n",
    "rcyl = oo.get_volume('kat11redcylinder','annotation', xbox[0], xbox[1], ybox[0], ybox[1], zbox[0], zbox[1], resolution = res)\n",
    "bcyl = oo.get_volume('kat11mojocylinder','annotation', xbox[0], xbox[1], ybox[0], ybox[1], zbox[0], zbox[1], resolution = res)\n",
    "\n",
    "\n",
    "mask = (gcyl.cutout + rcyl.cutout + bcyl.cutout) > 0\n",
    "\n",
    "mask_pixels = sum(sum(sum(mask)))\n",
    "mask_volume = mask_pixels * pixel_dim\n",
    "print 'Mask Pixels: ' + str(mask_pixels)\n",
    "print 'Mask Volume: ' + str(mask_volume) + ' um^3'\n",
    "\n",
    "print datetime.now() - startTime"
   ]
  },
  {
   "cell_type": "code",
   "execution_count": 4,
   "metadata": {
    "collapsed": false
   },
   "outputs": [
    {
     "name": "stdout",
     "output_type": "stream",
     "text": [
      "1.09125606797\n"
     ]
    }
   ],
   "source": [
    "print float(np.shape(synapse_ids)[0]) / mask_volume"
   ]
  }
 ],
 "metadata": {
  "kernelspec": {
   "display_name": "Python 2",
   "language": "python",
   "name": "python2"
  },
  "language_info": {
   "codemirror_mode": {
    "name": "ipython",
    "version": 2
   },
   "file_extension": ".py",
   "mimetype": "text/x-python",
   "name": "python",
   "nbconvert_exporter": "python",
   "pygments_lexer": "ipython2",
   "version": "2.7.11"
  }
 },
 "nbformat": 4,
 "nbformat_minor": 0
}
