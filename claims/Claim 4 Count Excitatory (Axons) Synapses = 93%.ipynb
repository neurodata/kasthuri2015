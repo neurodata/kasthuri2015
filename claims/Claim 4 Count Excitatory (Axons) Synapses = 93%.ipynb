{
 "cells": [
  {
   "cell_type": "markdown",
   "metadata": {},
   "source": [
    "Claim 4 Count Excitatory (Axons) Synapses = 93%"
   ]
  },
  {
   "cell_type": "code",
   "execution_count": 8,
   "metadata": {
    "collapsed": true
   },
   "outputs": [],
   "source": [
    "import numpy as np\n",
    "import ndio.remote.neurodata as nd\n",
    "from datetime import datetime\n",
    "\n",
    "startTime = datetime.now()\n",
    "\n",
    "oo = nd()\n",
    "\n",
    "token = 'kasthuri2015_ramon_v1'\n",
    "channel = 'synapses'\n",
    "resolution = 3"
   ]
  },
  {
   "cell_type": "code",
   "execution_count": 9,
   "metadata": {
    "collapsed": false
   },
   "outputs": [
    {
     "name": "stdout",
     "output_type": "stream",
     "text": [
      "0:00:00.258772\n"
     ]
    }
   ],
   "source": [
    "import ndio.ramon as ramon\n",
    "\n",
    "synapse_ids = oo.get_ramon_ids(token, channel, ramon_type=ramon.RAMONSynapse)\n",
    "\n",
    "# TODO Figure out which synapes are excitatory\n",
    "\n",
    "print datetime.now() - startTime"
   ]
  },
  {
   "cell_type": "code",
   "execution_count": 10,
   "metadata": {
    "collapsed": false
   },
   "outputs": [
    {
     "name": "stdout",
     "output_type": "stream",
     "text": [
      "1700\n"
     ]
    }
   ],
   "source": [
    "print np.shape(synapse_ids)[0]"
   ]
  }
 ],
 "metadata": {
  "kernelspec": {
   "display_name": "Python 2",
   "language": "python",
   "name": "python2"
  },
  "language_info": {
   "codemirror_mode": {
    "name": "ipython",
    "version": 2
   },
   "file_extension": ".py",
   "mimetype": "text/x-python",
   "name": "python",
   "nbconvert_exporter": "python",
   "pygments_lexer": "ipython2",
   "version": "2.7.11"
  }
 },
 "nbformat": 4,
 "nbformat_minor": 0
}
