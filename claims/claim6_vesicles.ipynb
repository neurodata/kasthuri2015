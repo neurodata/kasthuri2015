{
 "cells": [
  {
   "cell_type": "markdown",
   "metadata": {},
   "source": [
    "### Claim 9:  Count the total number of vesicles in Cylinder 1 of Kasthuri\n",
    "The paper agrees with the result in the paper (n = 162,259)"
   ]
  },
  {
   "cell_type": "code",
   "execution_count": 10,
   "metadata": {
    "collapsed": false
   },
   "outputs": [],
   "source": [
    "import ndio.remote.neurodata as neurodata\n",
    "import ndio.ramon as ramon\n",
    "nd = neurodata()\n",
    "\n",
    "token = \"kasthuri2015_ramon_v4\"\n",
    "channel = \"vesicles\"\n",
    "\n",
    "# Here we do a filter query on RAMONOrganelles in channel vesicle\n",
    "# This is sufficient to uniquely identify vesicles in this case\n",
    "\n",
    "ids = nd.get_ramon_ids(token, channel)#, ramon_type=ramon.RAMONOrganelle)\n"
   ]
  },
  {
   "cell_type": "code",
   "execution_count": 11,
   "metadata": {
    "collapsed": false
   },
   "outputs": [
    {
     "name": "stdout",
     "output_type": "stream",
     "text": [
      "The total number of vesicles manually annotated in cylinder 1 is: 161368\n"
     ]
    }
   ],
   "source": [
    "print 'The total number of vesicles manually annotated in cylinder 1 is: ' + str(len(ids))\n"
   ]
  },
  {
   "cell_type": "code",
   "execution_count": 12,
   "metadata": {
    "collapsed": false
   },
   "outputs": [
    {
     "data": {
      "text/plain": [
       "'1.0.0'"
      ]
     },
     "execution_count": 12,
     "metadata": {},
     "output_type": "execute_result"
    }
   ],
   "source": [
    "import ndio\n",
    "ndio.version"
   ]
  },
  {
   "cell_type": "raw",
   "metadata": {
    "collapsed": true
   },
   "source": []
  }
 ],
 "metadata": {
  "kernelspec": {
   "display_name": "Python 2",
   "language": "python",
   "name": "python2"
  },
  "language_info": {
   "codemirror_mode": {
    "name": "ipython",
    "version": 2
   },
   "file_extension": ".py",
   "mimetype": "text/x-python",
   "name": "python",
   "nbconvert_exporter": "python",
   "pygments_lexer": "ipython2",
   "version": "2.7.11"
  }
 },
 "nbformat": 4,
 "nbformat_minor": 0
}
