{
 "cells": [
  {
   "cell_type": "code",
   "execution_count": 1,
   "metadata": {
    "collapsed": false
   },
   "outputs": [],
   "source": [
    "import numpy as np\n",
    "import ndio.remote.neurodata as neurodata\n",
    "from time import time\n",
    "\n",
    "startTime = time()\n",
    "\n",
    "nd = neurodata()\n",
    "\n",
    "token = 'kasthuri2015_ramon_v4'\n",
    "channel = 'synapses'\n",
    "res = 3\n",
    "pixel_dim = 0.024*0.024*0.030  #can get from LIMS"
   ]
  },
  {
   "cell_type": "code",
   "execution_count": 2,
   "metadata": {
    "collapsed": false
   },
   "outputs": [
    {
     "name": "stdout",
     "output_type": "stream",
     "text": [
      "Mask Pixels: 90152653\n",
      "Mask Volume: 1557.83784384 um^3\n",
      "density of synapses is: 1.0913 / um^3\n",
      "fraction of volume that is psd: 0.0089\n",
      "430.658550978\n"
     ]
    }
   ],
   "source": [
    "'''\n",
    "There were 1,700 synapses at a density of one synapse per 1.13 μm3.\n",
    "\n",
    "'''\n",
    "\n",
    "import ndio.ramon as ramon\n",
    "\n",
    "synapse_ids = nd.get_ramon_ids(token, channel, ramon_type=ramon.RAMONSynapse)\n",
    "\n",
    "# A priori known bounds for cylinders.  Alternatively we could sweep over entire volume - this is more efficient.\n",
    "# TODO:  assume that all synapses are inside cylinders, which we know to be true - should do with manual masking or a \n",
    "# RAMONId predicate query\n",
    "\n",
    "xbox = [694,1794]; \n",
    "ybox = [1750, 2460];\n",
    "zbox = [1004, 1379];\n",
    "\n",
    "# These calls take about 60 seconds to execute\n",
    "gcyl = nd.get_volume('kat11greencylinder','annotation', xbox[0], xbox[1], ybox[0], ybox[1], zbox[0], zbox[1], resolution = res)\n",
    "rcyl = nd.get_volume('kat11redcylinder','annotation', xbox[0], xbox[1], ybox[0], ybox[1], zbox[0], zbox[1], resolution = res)\n",
    "bcyl = nd.get_volume('kat11mojocylinder','annotation', xbox[0], xbox[1], ybox[0], ybox[1], zbox[0], zbox[1], resolution = res)\n",
    "\n",
    "\n",
    "mask = (gcyl.cutout + rcyl.cutout + bcyl.cutout) > 0\n",
    "\n",
    "mask_pixels = sum(sum(sum(mask)))\n",
    "mask_volume = mask_pixels * pixel_dim\n",
    "print 'Mask Pixels: ' + str(mask_pixels)\n",
    "print 'Mask Volume: ' + str(mask_volume) + ' um^3'\n",
    "\n",
    "syn = nd.get_volume(token,channel, xbox[0], xbox[1], ybox[0], ybox[1], zbox[0], zbox[1], resolution = res)\n",
    "syn_volume = np.count_nonzero(syn.cutout)\n",
    "\n",
    "print 'density of synapses is: {} / um^3'.format(round(1.0*(np.shape(synapse_ids)[0]) / mask_volume,4))\n",
    "print 'fraction of volume that is psd: ' + str(round(1.0*syn_volume/mask_pixels,4))\n",
    "\n",
    "print time() - startTime"
   ]
  },
  {
   "cell_type": "code",
   "execution_count": 3,
   "metadata": {
    "collapsed": false
   },
   "outputs": [
    {
     "name": "stdout",
     "output_type": "stream",
     "text": [
      "\n",
      "time elapsed so far: 586.225799799\n"
     ]
    }
   ],
   "source": [
    "# Retrieve metadata for all objects\n",
    "import ndio.ramon as ramon\n",
    "\n",
    "synapse_ids = nd.get_ramon_ids(token, channel, ramon_type=ramon.RAMONSynapse)\n",
    "\n",
    "# Get all synapses\n",
    "synAll = nd.get_ramon(token,channel,synapse_ids)\n",
    "print '\\ntime elapsed so far: ' + str(time()-startTime)\n"
   ]
  },
  {
   "cell_type": "code",
   "execution_count": 4,
   "metadata": {
    "collapsed": false
   },
   "outputs": [
    {
     "data": {
      "text/plain": [
       "{'author': u'unspecified',\n",
       " 'confidence': 1.0,\n",
       " 'cutout': None,\n",
       " 'id': u'21',\n",
       " 'kvpairs': {u'axonSynapseType': u'en-passant',\n",
       "  u'multiSynapseBouton': u'unknown',\n",
       "  u'postsynaptic': u'3234',\n",
       "  u'presynaptic': u'3692',\n",
       "  u'psdSize': u'3588',\n",
       "  u'synapseLocation': u'spine',\n",
       "  u'vesicleCount': u'985'},\n",
       " 'resolution': 0,\n",
       " 'segments': [[3234, 2], [3692, 1]],\n",
       " 'status': 0,\n",
       " 'synapse_type': 0,\n",
       " 'voxels': None,\n",
       " 'weight': 0.0,\n",
       " 'xyz_offset': (0, 0, 0)}"
      ]
     },
     "execution_count": 4,
     "metadata": {},
     "output_type": "execute_result"
    }
   ],
   "source": [
    "vars(synAll[5]) "
   ]
  },
  {
   "cell_type": "code",
   "execution_count": null,
   "metadata": {
    "collapsed": true
   },
   "outputs": [],
   "source": []
  }
 ],
 "metadata": {
  "kernelspec": {
   "display_name": "Python 2",
   "language": "python",
   "name": "python2"
  },
  "language_info": {
   "codemirror_mode": {
    "name": "ipython",
    "version": 2
   },
   "file_extension": ".py",
   "mimetype": "text/x-python",
   "name": "python",
   "nbconvert_exporter": "python",
   "pygments_lexer": "ipython2",
   "version": "2.7.11"
  }
 },
 "nbformat": 4,
 "nbformat_minor": 0
}
