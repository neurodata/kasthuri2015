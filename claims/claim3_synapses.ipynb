{
 "cells": [
  {
   "cell_type": "code",
   "execution_count": 1,
   "metadata": {
    "collapsed": true
   },
   "outputs": [],
   "source": [
    "import numpy as np\n",
    "import ndio.remote.neurodata as ND\n",
    "from datetime import datetime\n",
    "\n",
    "startTime = datetime.now()\n",
    "\n",
    "nd = ND()\n",
    "\n",
    "token = 'kasthuri2015_ramon_v4'\n",
    "channel = 'synapses'\n",
    "res = 3\n",
    "pixel_dim = 0.024*0.024*0.030  #can get from LIMS"
   ]
  },
  {
   "cell_type": "code",
   "execution_count": 3,
   "metadata": {
    "collapsed": false
   },
   "outputs": [
    {
     "name": "stdout",
     "output_type": "stream",
     "text": [
      "Mask Pixels: 90152653\n",
      "Mask Volume: 1557.83784384 um^3\n",
      "density of synapses is: 1.0913 / um^3\n",
      "fraction of volume that is psd: 0.0089\n",
      "0:03:54.708588\n"
     ]
    }
   ],
   "source": [
    "'''\n",
    "There were 1,700 synapses at a density of one synapse per 1.13 μm3.\n",
    "\n",
    "'''\n",
    "\n",
    "import ndio.ramon as ramon\n",
    "\n",
    "synapse_ids = nd.get_ramon_ids(token, channel, ramon_type=ramon.RAMONSynapse)\n",
    "\n",
    "# A priori known bounds for cylinders.  Alternatively we could sweep over entire volume - this is more efficient.\n",
    "# TODO:  assume that all synapses are inside cylinders, which we know to be true - should do with manual masking or a \n",
    "# RAMONId predicate query\n",
    "\n",
    "xbox = [694,1794]; \n",
    "ybox = [1750, 2460];\n",
    "zbox = [1004, 1379];\n",
    "\n",
    "# These calls take about 60 seconds to execute\n",
    "gcyl = nd.get_volume('kat11greencylinder','annotation', xbox[0], xbox[1], ybox[0], ybox[1], zbox[0], zbox[1], resolution = res)\n",
    "rcyl = nd.get_volume('kat11redcylinder','annotation', xbox[0], xbox[1], ybox[0], ybox[1], zbox[0], zbox[1], resolution = res)\n",
    "bcyl = nd.get_volume('kat11mojocylinder','annotation', xbox[0], xbox[1], ybox[0], ybox[1], zbox[0], zbox[1], resolution = res)\n",
    "\n",
    "\n",
    "mask = (gcyl.cutout + rcyl.cutout + bcyl.cutout) > 0\n",
    "\n",
    "mask_pixels = sum(sum(sum(mask)))\n",
    "mask_volume = mask_pixels * pixel_dim\n",
    "print 'Mask Pixels: ' + str(mask_pixels)\n",
    "print 'Mask Volume: ' + str(mask_volume) + ' um^3'\n",
    "\n",
    "syn = nd.get_volume(token,channel, xbox[0], xbox[1], ybox[0], ybox[1], zbox[0], zbox[1], resolution = res)\n",
    "syn_volume = np.count_nonzero(syn.cutout)\n",
    "\n",
    "print 'density of synapses is: {} / um^3'.format(round(1.0*(np.shape(synapse_ids)[0]) / mask_volume,4))\n",
    "print 'fraction of volume that is psd: ' + str(round(1.0*syn_volume/mask_pixels,4))\n",
    "\n",
    "print datetime.now() - startTime"
   ]
  },
  {
   "cell_type": "code",
   "execution_count": 22,
   "metadata": {
    "collapsed": false
   },
   "outputs": [
    {
     "ename": "NameError",
     "evalue": "name 'time' is not defined",
     "output_type": "error",
     "traceback": [
      "\u001b[0;31m---------------------------------------------------------------------------\u001b[0m",
      "\u001b[0;31mNameError\u001b[0m                                 Traceback (most recent call last)",
      "\u001b[0;32m<ipython-input-22-2367f049d1e3>\u001b[0m in \u001b[0;36m<module>\u001b[0;34m()\u001b[0m\n\u001b[1;32m     10\u001b[0m     \u001b[0ms\u001b[0m \u001b[0;34m=\u001b[0m \u001b[0mnd\u001b[0m\u001b[0;34m.\u001b[0m\u001b[0mget_ramon_metadata\u001b[0m\u001b[0;34m(\u001b[0m\u001b[0mtoken\u001b[0m\u001b[0;34m,\u001b[0m\u001b[0mchannel\u001b[0m\u001b[0;34m,\u001b[0m\u001b[0;34m[\u001b[0m\u001b[0msynapse_ids\u001b[0m\u001b[0;34m[\u001b[0m\u001b[0mx\u001b[0m\u001b[0;34m]\u001b[0m\u001b[0;34m]\u001b[0m\u001b[0;34m)\u001b[0m\u001b[0;34m\u001b[0m\u001b[0m\n\u001b[1;32m     11\u001b[0m     \u001b[0msynAll\u001b[0m\u001b[0;34m.\u001b[0m\u001b[0mappend\u001b[0m\u001b[0;34m(\u001b[0m\u001b[0mcopy\u001b[0m\u001b[0;34m.\u001b[0m\u001b[0mdeepcopy\u001b[0m\u001b[0;34m(\u001b[0m\u001b[0ms\u001b[0m\u001b[0;34m)\u001b[0m\u001b[0;34m[\u001b[0m\u001b[0;36m0\u001b[0m\u001b[0;34m]\u001b[0m\u001b[0;34m)\u001b[0m\u001b[0;34m\u001b[0m\u001b[0m\n\u001b[0;32m---> 12\u001b[0;31m \u001b[0;32mprint\u001b[0m \u001b[0;34m'\\ntime elapsed so far: '\u001b[0m \u001b[0;34m+\u001b[0m \u001b[0mstr\u001b[0m\u001b[0;34m(\u001b[0m\u001b[0mtime\u001b[0m\u001b[0;34m.\u001b[0m\u001b[0mtime\u001b[0m\u001b[0;34m(\u001b[0m\u001b[0;34m)\u001b[0m\u001b[0;34m-\u001b[0m\u001b[0mstart\u001b[0m\u001b[0;34m)\u001b[0m\u001b[0;34m\u001b[0m\u001b[0m\n\u001b[0m",
      "\u001b[0;31mNameError\u001b[0m: name 'time' is not defined"
     ]
    }
   ],
   "source": [
    "# Retrieve metadata for all objects\n",
    "import ndio.ramon as ramon\n",
    "\n",
    "nd = ND()\n",
    "synapse_ids = nd.get_ramon_ids(token, channel, ramon_type=ramon.RAMONSynapse)\n",
    "import copy\n",
    "# Get all synapses\n",
    "synAll = []\n",
    "for x in range(np.shape(synapse_ids)[0]):\n",
    "    s = nd.get_ramon_metadata(token,channel,[synapse_ids[x]])\n",
    "    synAll.append(copy.deepcopy(s)[0])\n",
    "#print '\\ntime elapsed so far: ' + str(time.time()-start)\n"
   ]
  },
  {
   "cell_type": "code",
   "execution_count": 30,
   "metadata": {
    "collapsed": false
   },
   "outputs": [
    {
     "data": {
      "text/plain": [
       "{'_status': 0,\n",
       " 'author': 'unspecified',\n",
       " 'confidence': 1.0,\n",
       " 'cutout': None,\n",
       " 'id': '4',\n",
       " 'kvpairs': {'axonSynapseType': 'en-passant',\n",
       "  'multiSynapseBouton': 'yes',\n",
       "  'psdSize': '1393',\n",
       "  'synapseLocation': 'spine',\n",
       "  'vesicleCount': '281'},\n",
       " 'resolution': 0,\n",
       " 'segments': array([[1822,    2],\n",
       "        [3832,    1]], dtype=uint32),\n",
       " 'synapse_type': 0,\n",
       " 'voxels': None,\n",
       " 'weight': 0.0,\n",
       " 'xyz_offset': (0, 0, 0)}"
      ]
     },
     "execution_count": 30,
     "metadata": {},
     "output_type": "execute_result"
    }
   ],
   "source": [
    "vars(synAll[3]) "
   ]
  },
  {
   "cell_type": "code",
   "execution_count": 24,
   "metadata": {
    "collapsed": false
   },
   "outputs": [
    {
     "name": "stdout",
     "output_type": "stream",
     "text": [
      "{'multiSynapseBouton': 'yes', 'vesicleCount': '281', 'psdSize': '1393', 'axonSynapseType': 'en-passant', 'synapseLocation': 'spine'}\n",
      "[[1822    2]\n",
      " [3832    1]]\n"
     ]
    }
   ],
   "source": [
    "print synAll[3].kvpairs\n",
    "print synAll[3].segments"
   ]
  },
  {
   "cell_type": "code",
   "execution_count": 31,
   "metadata": {
    "collapsed": false
   },
   "outputs": [
    {
     "data": {
      "text/plain": [
       "{'_status': 0,\n",
       " 'author': 'unspecified',\n",
       " 'confidence': 1.0,\n",
       " 'cutout': None,\n",
       " 'id': '2',\n",
       " 'kvpairs': {'axonSynapseType': 'en-passant',\n",
       "  'multiSynapseBouton': 'no',\n",
       "  'psdSize': '246',\n",
       "  'synapseLocation': 'spine',\n",
       "  'vesicleCount': '137'},\n",
       " 'resolution': 0,\n",
       " 'segments': array([[3422,    2],\n",
       "        [3837,    1]], dtype=uint32),\n",
       " 'synapse_type': 0,\n",
       " 'voxels': None,\n",
       " 'weight': 0.0,\n",
       " 'xyz_offset': (0, 0, 0)}"
      ]
     },
     "execution_count": 31,
     "metadata": {},
     "output_type": "execute_result"
    }
   ],
   "source": [
    "vars(synAll[1])"
   ]
  },
  {
   "cell_type": "code",
   "execution_count": 21,
   "metadata": {
    "collapsed": false
   },
   "outputs": [
    {
     "data": {
      "text/plain": [
       "<ndio.ramon.RAMONSynapse.RAMONSynapse at 0x10937b610>"
      ]
     },
     "execution_count": 21,
     "metadata": {},
     "output_type": "execute_result"
    }
   ],
   "source": []
  },
  {
   "cell_type": "code",
   "execution_count": null,
   "metadata": {
    "collapsed": true
   },
   "outputs": [],
   "source": []
  }
 ],
 "metadata": {
  "kernelspec": {
   "display_name": "Python 2",
   "language": "python",
   "name": "python2"
  },
  "language_info": {
   "codemirror_mode": {
    "name": "ipython",
    "version": 2
   },
   "file_extension": ".py",
   "mimetype": "text/x-python",
   "name": "python",
   "nbconvert_exporter": "python",
   "pygments_lexer": "ipython2",
   "version": "2.7.10"
  }
 },
 "nbformat": 4,
 "nbformat_minor": 0
}
