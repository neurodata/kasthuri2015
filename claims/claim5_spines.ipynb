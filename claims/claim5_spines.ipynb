{
 "cells": [
  {
   "cell_type": "markdown",
   "metadata": {},
   "source": [
    "### Count total number of spines for red dendrite"
   ]
  },
  {
   "cell_type": "code",
   "execution_count": 1,
   "metadata": {
    "collapsed": true
   },
   "outputs": [],
   "source": [
    "import numpy as np\n",
    "import ndio.remote.neurodata as neurodata\n",
    "import ndio.ramon as ramon\n",
    "import time\n",
    "\n",
    "token = 'kasthuri2015_ramon_v2'\n",
    "channel = 'neurons_meta'\n",
    "res = 3\n",
    "red_dendrite = 10016"
   ]
  },
  {
   "cell_type": "code",
   "execution_count": 2,
   "metadata": {
    "collapsed": false
   },
   "outputs": [
    {
     "name": "stdout",
     "output_type": "stream",
     "text": [
      "Number of RAMON segments is: 3945\n"
     ]
    }
   ],
   "source": [
    "nd = neurodata()\n",
    "\n",
    "id_segment = nd.get_ramon_ids(token, channel, ramon_type=ramon.RAMONSegment)\n",
    "\n",
    "print 'Number of RAMON segments is: ' + str(len(id_segment))"
   ]
  },
  {
   "cell_type": "code",
   "execution_count": null,
   "metadata": {
    "collapsed": true
   },
   "outputs": [],
   "source": [
    "# Get all segments\n",
    "\n",
    "token = 'kasthuri2015_ramon_v2'\n",
    "channel = 'neurons_meta'\n",
    "start = time.time()\n",
    "seg = []\n",
    "spAll = 0\n",
    "for x in id_segment:\n",
    "    print str(x).zfill(4),\n",
    "    ss = (nd.get_ramon(token, channel, int(x), resolution=3, metadata_only=True))\n",
    "    if ss.kvpairs['is_spine'] is '1':\n",
    "        spAll += 1"
   ]
  },
  {
   "cell_type": "code",
   "execution_count": null,
   "metadata": {
    "collapsed": true
   },
   "outputs": [],
   "source": [
    "print '\\ntime elapsed: ' + str(time.time()-start)\n",
    "\n",
    "print 'Total number of spines found in all three cylinders is: ' + str(spAll)\n"
   ]
  },
  {
   "cell_type": "code",
   "execution_count": 3,
   "metadata": {
    "collapsed": false
   },
   "outputs": [
    {
     "name": "stdout",
     "output_type": "stream",
     "text": [
      "time elapsed: 0.143150091171\n"
     ]
    }
   ],
   "source": [
    "# Get all segments on red dendrite\n",
    "\n",
    "start = time.time()\n",
    "n = nd.get_ramon(token, channel, red_dendrite, resolution=3, metadata_only=True)\n",
    "    \n",
    "print 'time elapsed: ' + str(time.time()-start)\n",
    "\n",
    "print n.segments"
   ]
  },
  {
   "cell_type": "code",
   "execution_count": 5,
   "metadata": {
    "collapsed": false
   },
   "outputs": [
    {
     "name": "stdout",
     "output_type": "stream",
     "text": [
      "Total number of spines for Red Dendrite are: 43\n"
     ]
    }
   ],
   "source": [
    "n_spine = []\n",
    "for x in n.segments:\n",
    "    #print x\n",
    "    n_spine.append(nd.get_ramon(token, channel, int(x), resolution=3, metadata_only=True))\n",
    "    spAll = 0\n",
    "\n",
    "for x in n_spine:\n",
    "    if x.kvpairs['is_spine'] == '1':\n",
    "        spAll += 1\n",
    "print 'Total number of spines for Red Dendrite are: ' + str(spAll)\n"
   ]
  },
  {
   "cell_type": "code",
   "execution_count": null,
   "metadata": {
    "collapsed": true
   },
   "outputs": [],
   "source": []
  }
 ],
 "metadata": {
  "kernelspec": {
   "display_name": "Python 2",
   "language": "python",
   "name": "python2"
  },
  "language_info": {
   "codemirror_mode": {
    "name": "ipython",
    "version": 2
   },
   "file_extension": ".py",
   "mimetype": "text/x-python",
   "name": "python",
   "nbconvert_exporter": "python",
   "pygments_lexer": "ipython2",
   "version": "2.7.10"
  }
 },
 "nbformat": 4,
 "nbformat_minor": 0
}
