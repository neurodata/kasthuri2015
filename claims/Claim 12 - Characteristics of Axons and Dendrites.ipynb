{
 "cells": [
  {
   "cell_type": "markdown",
   "metadata": {},
   "source": [
    "### Characteristics of Axons and Dendrites\n",
    "*one 'X' means claim exists, two 'XX' means verified*\n",
    "\n",
    "#### 3 Cylinder Volume (neuron channel is masked to this volume)\n",
    "- [X ] 1600 different neurons within this small region of mammalian brain (several billionths of the whole brain)\n",
    "- [X ] 193 dendrites, 92% spiny and purportedly excitatory (177/193), remainder smooth\n",
    "- [X ] 1407 unmyelinated axons, 93% excitatory (1308/1407); most of remaining are inhibitory, 5 have no/ambiguous connections\n",
    "- [X ] We also observed astrocytic processes, myelinated axons, oligodendrocyte processes and 20 entities we could not easily classify\n",
    "\n",
    "#### Red Cylinder Volume\n",
    "- [X ] In 500 um^3 cylinder, no axonal or dendritic orphans, 568 spines and 601 terminal axon branches\n",
    "- [X ] Neuronal processes (axons and dendrites) occupy 92% of the cellular volume with glial processes occupying much of the remaining 8%\n",
    "- [X ] The non-cellular (extracellular) space accounts for 6% of the total volume, less than half the space estimates from living brains\n",
    "- [X ] Axons extend into a 7 fold greater volume than dendrites on average.\n"
   ]
  },
  {
   "cell_type": "code",
   "execution_count": 1,
   "metadata": {
    "collapsed": false
   },
   "outputs": [],
   "source": [
    "import numpy as np\n",
    "import ndio.remote.neurodata as neurodata\n",
    "import ndio.ramon as ramon\n",
    "import time\n",
    "import ndio\n",
    "\n",
    "start = time.time()\n",
    "\n",
    "token = 'kasthuri2015_ramon_v2'\n",
    "channel = 'neurons_meta'\n",
    "res = 3"
   ]
  },
  {
   "cell_type": "code",
   "execution_count": 2,
   "metadata": {
    "collapsed": false
   },
   "outputs": [
    {
     "name": "stdout",
     "output_type": "stream",
     "text": [
      "Number of RAMON segments (unique objects) is: 3945\n",
      "In the 3 volume cylinder we identified 2258 (RAMON) neurons\n"
     ]
    }
   ],
   "source": [
    "'''\n",
    "Identify available objects: \n",
    "1600 different neurons within this small region of mammalian brain (several billionths of the whole brain)\n",
    "'''\n",
    "nd = neurodata()\n",
    "\n",
    "id_segment = nd.get_ramon_ids(token, channel, ramon_type=ramon.RAMONSegment)\n",
    "id_neuron = nd.get_ramon_ids(token, channel, ramon_type=ramon.RAMONNeuron)\n",
    "print 'Number of RAMON segments (unique objects) is: ' + str(len(id_segment))\n",
    "print 'In the 3 volume cylinder we identified {} (RAMON) neurons'.format(len(id_neuron))\n"
   ]
  },
  {
   "cell_type": "code",
   "execution_count": 3,
   "metadata": {
    "collapsed": false
   },
   "outputs": [
    {
     "name": "stdout",
     "output_type": "stream",
     "text": [
      "\n",
      "time elapsed so far: 751.098604918\n"
     ]
    }
   ],
   "source": [
    "# Retrieve metadata for all objects\n",
    "\n",
    "import copy\n",
    "# Get all segments\n",
    "token = 'kasthuri2015_ramon_v2'\n",
    "channel = 'neurons_meta'\n",
    "segAll = []\n",
    "for x in range(np.shape(id_segment)[0]):\n",
    "    s = nd.get_ramon_metadata(token,channel,[id_segment[x]])\n",
    "    segAll.append(copy.deepcopy(s))\n",
    "print '\\ntime elapsed so far: ' + str(time.time()-start)\n"
   ]
  },
  {
   "cell_type": "code",
   "execution_count": 4,
   "metadata": {
    "collapsed": false
   },
   "outputs": [
    {
     "name": "stdout",
     "output_type": "stream",
     "text": [
      "['' 'excitatory' 'glia_astrocyte' 'glia_oligodendrocyte' 'inhibitory'\n",
      " 'myelinated' 'other' 'smooth' 'spiny']\n"
     ]
    }
   ],
   "source": [
    "z = []\n",
    "for x in segAll:\n",
    "    z.append(x[0].kvpairs['segment_subtype'])\n",
    "\n",
    "print np.unique(z)"
   ]
  },
  {
   "cell_type": "code",
   "execution_count": 86,
   "metadata": {
    "collapsed": false
   },
   "outputs": [
    {
     "name": "stdout",
     "output_type": "stream",
     "text": [
      "The total number of dendrite neurites in the three cylinders is: 1807\n",
      "The total number of dendrites in the three cylinders is: 657\n",
      "The total number of excitatory dendrites in the three cylinders is: 641\n",
      "The percentage of excitatory dendrites is: 98.0\n",
      "The percentage of smooth dendrites is: 2.0\n",
      "The total number of spines in the three cylinders is: 1295\n"
     ]
    }
   ],
   "source": [
    "'''\n",
    "Count Dendrite Things\n",
    "193 dendrites, 92% spiny and purportedly excitatory (177/193), remainder smooth\n",
    "'''\n",
    "\n",
    "# TODO:  Maybe count difference based on cylinder of interest\n",
    "\n",
    "dendrite_neurites = []\n",
    "dendrite_neurons = []\n",
    "dendrite_excitatory = []\n",
    "dendrite_smooth = []\n",
    "spine = 0\n",
    "spine_id = []\n",
    "for x in segAll:\n",
    "    if x[0].segment_class == 2:\n",
    "        dendrite_neurites.append(x[0].id)\n",
    "        dendrite_neurons.append(x[0].neuron)\n",
    "        \n",
    "        if x[0].kvpairs['segment_subtype'] == 'spiny':\n",
    "            dendrite_excitatory.append(x[0].neuron)\n",
    "            \n",
    "        if x[0].kvpairs['segment_subtype'] == 'smooth':\n",
    "            dendrite_smooth.append(x[0].neuron)\n",
    "\n",
    "    if x[0].kvpairs['is_spine'] is '1':\n",
    "        spine += 1\n",
    "        spine_id.append(x[0].id)\n",
    "\n",
    "print 'The total number of dendrite neurites in the three cylinders is: ' + str(len(dendrite_neurites))\n",
    "print 'The total number of dendrites in the three cylinders is: ' + str(len(np.unique(dendrite_neurons)))\n",
    "print 'The total number of excitatory dendrites in the three cylinders is: {}'.format(len(np.unique(dendrite_excitatory)))\n",
    "print 'The percentage of excitatory dendrites is: ' + \\\n",
    "          str(round(100.0*len(np.unique(dendrite_excitatory))/len(np.unique(dendrite_neurons)),0)) \n",
    "print 'The percentage of smooth dendrites is: ' + \\\n",
    "          str(round(100.0*len(np.unique(dendrite_smooth))/len(np.unique(dendrite_neurons)),0))\n",
    "print 'The total number of spines in the three cylinders is: ' + str(spine)"
   ]
  },
  {
   "cell_type": "code",
   "execution_count": 6,
   "metadata": {
    "collapsed": false
   },
   "outputs": [
    {
     "name": "stdout",
     "output_type": "stream",
     "text": [
      "The total number of axon neurites in the three cylinders is: 1766\n",
      "The total number of axons in the three cylinders is: 1423\n",
      "The total number of excitatory axons in the three cylinders is: 1310\n",
      "The percentage of excitatory axons is: 92.0\n",
      "The total number of inhibitory axons in the three cylinders is: 99\n",
      "The percentage of inhibitory axons is: 7.0\n"
     ]
    }
   ],
   "source": [
    "'''\n",
    "Count Axon Things\n",
    "1407 unmyelinated axons, 93% excitatory (1308/1407); most of remaining are inhibitory, 5 have no/ambiguous\n",
    "'''\n",
    "\n",
    "axon_neurites = []\n",
    "axon_neurons = []\n",
    "axon_excitatory = []\n",
    "axon_inhibitory = []\n",
    "\n",
    "for x in segAll:\n",
    "    if x[0].segment_class == 1:\n",
    "        axon_neurites.append(x[0].id)\n",
    "        axon_neurons.append(x[0].neuron)\n",
    "        \n",
    "        if x[0].kvpairs['segment_subtype'] == 'excitatory':\n",
    "            axon_excitatory.append(x[0].neuron)\n",
    "        if x[0].kvpairs['segment_subtype'] == 'inhibitory':\n",
    "            axon_inhibitory.append(x[0].neuron)\n",
    "\n",
    "n_axons = len(np.unique(axon_neurons))\n",
    "n_excitatory_axon = len(np.unique(axon_excitatory))\n",
    "n_inhibitory_axon = len(np.unique(axon_inhibitory))\n",
    "                         \n",
    "print 'The total number of axon neurites in the three cylinders is: ' + str(len(axon_neurites))\n",
    "print 'The total number of axons in the three cylinders is: ' + str(n_axons)\n",
    "print 'The total number of excitatory axons in the three cylinders is: ' + str(n_excitatory_axon)\n",
    "print 'The percentage of excitatory axons is: {}'.format(round(100.0*n_excitatory_axon/n_axons,0))\n",
    "print 'The total number of inhibitory axons in the three cylinders is: ' + str(n_inhibitory_axon)\n",
    "print 'The percentage of inhibitory axons is: {}'.format(round(100.0*n_inhibitory_axon/n_axons,0))"
   ]
  },
  {
   "cell_type": "code",
   "execution_count": 64,
   "metadata": {
    "collapsed": false
   },
   "outputs": [
    {
     "name": "stdout",
     "output_type": "stream",
     "text": [
      "Not counted or other objects in the three cylinders is: 21\n",
      "The total number of myelinated axons in the three cylinders is: 8\n",
      "The total number of astrocytes in the three cylinders is: 10\n",
      "The total number of oligodendrocytes in the three cylinders is: 333\n",
      "The total number of glia in the three cylinders is: 343\n"
     ]
    }
   ],
   "source": [
    "'''\n",
    "Count Other Things\n",
    "We also observed astrocytic processes, myelinated axons, oligodendrocyte processes and 20 entities we could not easily classify\n",
    "'''\n",
    "\n",
    "axon_myelinated_neurites = []\n",
    "axon_myelinated_neurons = []\n",
    "glia_astrocytes = []\n",
    "glia_oligo = []\n",
    "other_obj = []\n",
    "c = 0\n",
    "for x in segAll:\n",
    "    if x[0].kvpairs['segment_subtype'] == 'myelinated':\n",
    "        # all myelinated objects are axons in this dataset\n",
    "        axon_myelinated_neurites.append(x[0].id)\n",
    "        axon_myelinated_neurons.append(x[0].neuron)\n",
    "    if x[0].segment_class == 0:\n",
    "        if x[0].kvpairs['segment_subtype'] == 'glia_oligodendrocyte':    \n",
    "            glia_oligo.append(x[0].id)\n",
    "        if x[0].kvpairs['segment_subtype'] == 'glia_astrocyte':    \n",
    "            glia_astrocytes.append(x[0].id)\n",
    "        if x[0].kvpairs['segment_subtype'] == 'other':    \n",
    "            other_obj.append(x[0].id)\n",
    "            \n",
    "        c += 1\n",
    "\n",
    "n_myelinated_neurons = len(np.unique(axon_myelinated_neurons))\n",
    "n_glia_astrocytes = len(glia_oligo)\n",
    "n_glia_oligo = len(glia_astrocytes)\n",
    "n_glia = n_glia_astrocytes + n_glia_oligo\n",
    "n_other = len(other_obj) + c-n_myelinated_neurons-n_glia_astrocytes-n_glia_oligo\n",
    "\n",
    "print 'Not counted or other objects in the three cylinders is: ' + str(n_other)\n",
    "print 'The total number of myelinated axons in the three cylinders is: ' + str(n_myelinated_neurons)\n",
    "print 'The total number of astrocytes in the three cylinders is: ' + str(n_glia_astrocytes)\n",
    "print 'The total number of oligodendrocytes in the three cylinders is: ' + str(n_glia_oligo)\n",
    "print 'The total number of glia in the three cylinders is: ' + str(n_glia)"
   ]
  },
  {
   "cell_type": "code",
   "execution_count": 7,
   "metadata": {
    "collapsed": false
   },
   "outputs": [],
   "source": [
    "# A priori known bounds for cylinders.  Alternatively we could sweep over entire volume - this is more efficient.\n",
    "# TODO:  assume that all synapses are inside cylinders, which we know to be true - should do with manual masking or a \n",
    "# RAMONId predicate query\n",
    "\n",
    "token = 'kasthuri2015_ramon_v1'\n",
    "channel = 'neurons'\n",
    "res = 3\n",
    "\n",
    "xbox = [694,1794]; \n",
    "ybox = [1750, 2460];\n",
    "zbox = [1004, 1379];\n",
    "\n",
    "# These calls take about 60 seconds to execute\n",
    "rcyl = nd.get_volume('kat11redcylinder','annotation', xbox[0], xbox[1], ybox[0], ybox[1], zbox[0], zbox[1], resolution = res)\n",
    "\n",
    "seg_masked = nd.get_volume(token, channel, xbox[0], xbox[1], ybox[0], ybox[1], zbox[0], zbox[1], resolution = res)\n",
    "\n",
    "mask = rcyl.cutout > 0\n",
    "\n",
    "seg = seg_masked.cutout\n",
    "seg[mask == 0] = 0"
   ]
  },
  {
   "cell_type": "code",
   "execution_count": 70,
   "metadata": {
    "collapsed": false
   },
   "outputs": [
    {
     "name": "stdout",
     "output_type": "stream",
     "text": [
      "Total voxel area of axons in volume: 14676088\n",
      "Total voxel area of dendrites in volume: 18343562\n",
      "Total voxel area of neurites in volume: 33019650\n",
      "Total voxel area of glia in volume: 2780602\n",
      "Total voxel area of masked region: 35953525\n",
      "Percentage of voxels that are neurites in cellular volume: 0.92\n",
      "Percentage of voxels that are glia in cellular volume: 0.08\n",
      "Percentage of voxels that are extracellular space: -1.0\n"
     ]
    }
   ],
   "source": [
    "'''\n",
    "Area calculations based on all 3 cylinders\n",
    "- Neuronal processes (axons and dendrites) occupy 92% of the cellular volume with glial processes occupying much of the remaining 8%\n",
    "- The non-cellular (extracellular) space accounts for 6% of the total volume, less than half the space estimates from living brains\n",
    "- Axons extend into a 7 fold greater volume than dendrites on average.\n",
    "'''\n",
    "\n",
    "def ismember(A, B):\n",
    "    return [ np.sum(a == B) for a in A ]\n",
    "\n",
    "import skimage.measure as measure\n",
    "seg = np.asarray(seg, dtype='uint32')\n",
    "rp = measure.regionprops(seg,intensity_image=None)\n",
    "dendrite_neurites = np.asarray(dendrite_neurites,dtype='int')\n",
    "axon_neurites = np.asarray(axon_neurites,dtype='int')\n",
    "glia = np.concatenate([glia_astrocytes, glia_oligo])\n",
    "glia = np.asarray(glia, dtype='int')\n",
    "\n",
    "glia_area = 0\n",
    "dendrite_area = 0\n",
    "axon_area = 0\n",
    "\n",
    "for x in rp:\n",
    "    #print x\n",
    "    if np.sum(x.label == axon_neurites):\n",
    "           axon_area += x.area\n",
    "    if np.sum(x.label == dendrite_neurites):\n",
    "           dendrite_area += x.area\n",
    "    if np.sum(x.label == glia):\n",
    "           glia_area += x.area\n",
    "\n",
    "mask_area = np.count_nonzero(seg)\n",
    "neurite_area = axon_area + dendrite_area\n",
    "\n",
    "cellular_volume = neurite_area + glia_area\n",
    "\n",
    "print 'Total voxel area of axons in volume: ' + str(axon_area)\n",
    "print 'Total voxel area of dendrites in volume: ' + str(dendrite_area)\n",
    "print 'Total voxel area of neurites in volume: ' + str(neurite_area)\n",
    "print 'Total voxel area of glia in volume: ' + str(glia_area)\n",
    "print 'Total voxel area of masked region: ' + str(mask_area)\n",
    "\n",
    "print 'Percentage of voxels that are neurites in cellular volume: ' + str(round(1.0*neurite_area/cellular_volume,2))\n",
    "print 'Percentage of voxels that are glia in cellular volume: ' + str(round(1.0*glia_area/cellular_volume,2))\n",
    "print 'Percentage of voxels that are extracellular space: ' + str(round(1.0-1.0*(cellular_volume)/mask_area,4))"
   ]
  },
  {
   "cell_type": "code",
   "execution_count": 79,
   "metadata": {
    "collapsed": false
   },
   "outputs": [
    {
     "name": "stdout",
     "output_type": "stream",
     "text": [
      "The voxel ratio of axons to dendrites is: 0.800067511424\n",
      "The neuron ratio of axons to dendrites is: 2.16590563166\n"
     ]
    }
   ],
   "source": [
    "'''\n",
    "Axons v. Dendrites\n",
    "Axons extend into a 7 fold greater volume than dendrites on average.\n",
    "'''\n",
    "\n",
    "ratio_voxel_axon_dendrite = 1.0*axon_area / dendrite_area\n",
    "ratio_count_axon_dendrite = 1.0*len(np.unique(axon_neurons))/ len(np.unique(dendrite_neurons))\n",
    "print 'The voxel ratio of axons to dendrites is: ' + str(ratio_voxel_axon_dendrite)\n",
    "print 'The neuron ratio of axons to dendrites is: ' + str(ratio_count_axon_dendrite)"
   ]
  },
  {
   "cell_type": "code",
   "execution_count": 97,
   "metadata": {
    "collapsed": false
   },
   "outputs": [
    {
     "name": "stdout",
     "output_type": "stream",
     "text": [
      "Number of orphans is: 25\n",
      "Total number of spines in volume: 753\n",
      "Total number of axon neurites  in volume: 923\n"
     ]
    }
   ],
   "source": [
    "'''\n",
    "Looking for Orphans\n",
    "In 500 um^3 cylinder, no axonal or dendritic orphans, 568 spines and 601 terminal axon branches\n",
    "'''\n",
    "\n",
    "import scipy.ndimage.morphology as morpho\n",
    "\n",
    "mask2 = morpho.binary_erosion(mask, structure=np.ones((3,3,1)))\n",
    "\n",
    "seg2 = copy.deepcopy(seg)\n",
    "\n",
    "all_inside_obj = np.unique(seg2[mask2])\n",
    "all_obj = np.unique(seg)\n",
    "\n",
    "# Orphans are objects that don't hit a boundary\n",
    "print 'Number of orphans is: ' + str(len(all_obj)-len(all_inside_obj))\n",
    "\n",
    "# Count spines\n",
    "spine_rc = 0\n",
    "spine_id = np.asarray(spine_id,dtype='int')\n",
    "for x in all_obj:\n",
    "    if x in spine_id:\n",
    "        spine_rc += 1\n",
    "\n",
    "print 'Total number of spines in volume: ' + str(spine_rc)\n",
    "\n",
    "# Count objects that are axon neurites\n",
    "axon_rc = 0\n",
    "axon_neurites = np.asarray(axon_neurites,dtype='int')\n",
    "for x in all_obj:\n",
    "    if x in axon_neurites:\n",
    "        axon_rc += 1\n",
    "        \n",
    "print 'Total number of axon neurites in volume: ' + str(axon_rc)\n",
    "\n",
    "# Count terminal axons TODO: requires more thought\n",
    "# Take seg2, split into connected components for each id\n",
    "# If axon has two or more hits assume passing through - 1 hit = terminal"
   ]
  },
  {
   "cell_type": "code",
   "execution_count": null,
   "metadata": {
    "collapsed": false
   },
   "outputs": [],
   "source": []
  },
  {
   "cell_type": "code",
   "execution_count": null,
   "metadata": {
    "collapsed": true
   },
   "outputs": [],
   "source": [
    "print 'timing for this notebook: ' + str(time.time()-start)\n",
    "print 'ndio version used: ' + str(ndio.version)\n",
    "print 'Kasthuri 2015 result: ______'\n",
    "print 'our result(s): ' + 'not yet available'"
   ]
  }
 ],
 "metadata": {
  "kernelspec": {
   "display_name": "Python 2",
   "language": "python",
   "name": "python2"
  },
  "language_info": {
   "codemirror_mode": {
    "name": "ipython",
    "version": 2
   },
   "file_extension": ".py",
   "mimetype": "text/x-python",
   "name": "python",
   "nbconvert_exporter": "python",
   "pygments_lexer": "ipython2",
   "version": "2.7.10"
  }
 },
 "nbformat": 4,
 "nbformat_minor": 0
}
