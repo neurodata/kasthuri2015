{
 "cells": [
  {
   "cell_type": "markdown",
   "metadata": {},
   "source": [
    "### Count total number of spines"
   ]
  },
  {
   "cell_type": "code",
   "execution_count": 1,
   "metadata": {
    "collapsed": true
   },
   "outputs": [],
   "source": [
    "import numpy as np\n",
    "import ndio.remote.neurodata as neurodata\n",
    "import ndio.ramon as ramon\n",
    "import time\n",
    "\n",
    "token = 'kasthuri2015_ramon_v2'\n",
    "channel = 'neurons_meta'\n",
    "res = 3"
   ]
  },
  {
   "cell_type": "code",
   "execution_count": null,
   "metadata": {
    "collapsed": false
   },
   "outputs": [
    {
     "name": "stdout",
     "output_type": "stream",
     "text": [
      "Number of RAMON segments is: 3945\n"
     ]
    }
   ],
   "source": [
    "nd = neurodata()\n",
    "\n",
    "id_segment = nd.get_ramon_ids(token, channel, ramon_type=ramon.RAMONSegment)\n",
    "\n",
    "print 'Number of RAMON segments is: ' + str(len(id_segment))"
   ]
  },
  {
   "cell_type": "code",
   "execution_count": null,
   "metadata": {
    "collapsed": false
   },
   "outputs": [],
   "source": [
    "# Get all segments\n",
    "token = 'kasthuri2015_ramon_v2'\n",
    "channel = 'neurons_meta'\n",
    "start = time.time()\n",
    "seg = []\n",
    "for x in id_segment:\n",
    "    #print x\n",
    "    seg.append(nd.get_ramon(token, channel, int(x), resolution=3, metadata_only=True))\n",
    "    \n",
    "print 'time elapsed: ' + str(time.time()-start)"
   ]
  },
  {
   "cell_type": "code",
   "execution_count": null,
   "metadata": {
    "collapsed": false
   },
   "outputs": [],
   "source": [
    "\n",
    "spAll = 0\n",
    "for x in seg:\n",
    "    #print x.kvpairs\n",
    "    #print x.id\n",
    "    if x.kvpairs['is_spine'] == '1':\n",
    "        spAll += 1\n",
    "print 'Total number of spines found in all three cylinders is: ' + str(spAll)\n"
   ]
  },
  {
   "cell_type": "code",
   "execution_count": null,
   "metadata": {
    "collapsed": false
   },
   "outputs": [],
   "source": []
  },
  {
   "cell_type": "code",
   "execution_count": null,
   "metadata": {
    "collapsed": true
   },
   "outputs": [],
   "source": []
  }
 ],
 "metadata": {
  "kernelspec": {
   "display_name": "Python 2",
   "language": "python",
   "name": "python2"
  },
  "language_info": {
   "codemirror_mode": {
    "name": "ipython",
    "version": 2
   },
   "file_extension": ".py",
   "mimetype": "text/x-python",
   "name": "python",
   "nbconvert_exporter": "python",
   "pygments_lexer": "ipython2",
   "version": "2.7.10"
  }
 },
 "nbformat": 4,
 "nbformat_minor": 0
}
