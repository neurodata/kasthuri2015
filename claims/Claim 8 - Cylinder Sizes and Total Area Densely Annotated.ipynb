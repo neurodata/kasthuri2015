{
 "cells": [
  {
   "cell_type": "markdown",
   "metadata": {},
   "source": [
    "### Compute cylinder volumes and annotated data\n",
    "We compute these cylinder volumes at low resolution, so reconstructed volume sizes are approximate"
   ]
  },
  {
   "cell_type": "code",
   "execution_count": 1,
   "metadata": {
    "collapsed": false
   },
   "outputs": [],
   "source": [
    "import numpy as np\n",
    "import ndio.remote.neurodata as nd\n",
    "from datetime import datetime\n",
    "\n",
    "startTime = datetime.now()\n",
    "\n",
    "oo = nd()\n",
    "\n",
    "token_green = 'kat11greencylinder'\n",
    "token_red = 'kat11redcylinder'\n",
    "token_mojo = 'kat11mojocylinder'\n",
    "channel = 'annotation'\n",
    "res = 7\n",
    "pixel_dim = 0.003*(2**res)*0.003*(2**res)*0.030  #can get from LIMS\n",
    "imsize = oo.get_image_size(token_green, resolution=res)\n",
    "offset = oo.get_image_offset(token_green, resolution=res)"
   ]
  },
  {
   "cell_type": "code",
   "execution_count": 2,
   "metadata": {
    "collapsed": false
   },
   "outputs": [],
   "source": [
    "green = oo.get_volume(token_green, channel, offset[0], imsize[0], \n",
    "                      offset[1], imsize[1], offset[2], imsize[2], resolution=res)\n",
    "red = oo.get_volume(token_red, channel, offset[0], imsize[0], \n",
    "                    offset[1], imsize[1], offset[2], imsize[2], resolution=res)\n",
    "mojo = oo.get_volume(token_mojo, channel, offset[0], imsize[0], \n",
    "                     offset[1], imsize[1], offset[2], imsize[2], resolution=res)"
   ]
  },
  {
   "cell_type": "code",
   "execution_count": 3,
   "metadata": {
    "collapsed": false
   },
   "outputs": [],
   "source": [
    "g_size = np.sum(np.ravel(green.cutout>0))\n",
    "r_size = np.sum(np.ravel(red.cutout>0))\n",
    "m_size = np.sum(np.ravel(mojo.cutout>0))\n",
    "\n",
    "mask = green.cutout+red.cutout+mojo.cutout > 0\n",
    "\n",
    "total_size = np.sum(np.ravel(mask))"
   ]
  },
  {
   "cell_type": "code",
   "execution_count": 4,
   "metadata": {
    "collapsed": false
   },
   "outputs": [
    {
     "name": "stdout",
     "output_type": "stream",
     "text": [
      "Cylinder 1 (Red) is approximately: 746.61986304 um^3\n",
      "Cylinder 1 (Green) is approximately: 628.64474112 um^3\n",
      "Cylinder 3 (Mojo) is approximately: 685.82080512 um^3\n",
      "The total (overlapping volume) of the cylinders is approximately: 1699.72383744 um^3\n"
     ]
    }
   ],
   "source": [
    "print 'Cylinder 1 (Red) is approximately: ' + str(r_size * pixel_dim) + ' um^3'\n",
    "print 'Cylinder 1 (Green) is approximately: ' + str(g_size * pixel_dim) + ' um^3'\n",
    "print 'Cylinder 3 (Mojo) is approximately: ' + str(m_size * pixel_dim) + ' um^3'\n",
    "print 'The total (overlapping volume) of the cylinders is approximately: ' + str(total_size * pixel_dim) + ' um^3'"
   ]
  }
 ],
 "metadata": {
  "kernelspec": {
   "display_name": "Python 2",
   "language": "python",
   "name": "python2"
  },
  "language_info": {
   "codemirror_mode": {
    "name": "ipython",
    "version": 2
   },
   "file_extension": ".py",
   "mimetype": "text/x-python",
   "name": "python",
   "nbconvert_exporter": "python",
   "pygments_lexer": "ipython2",
   "version": "2.7.10"
  }
 },
 "nbformat": 4,
 "nbformat_minor": 0
}
